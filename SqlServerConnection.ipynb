{
 "cells": [
  {
   "metadata": {},
   "cell_type": "markdown",
   "source": [
    "## Install pyodbc\n",
    "Did that using conda\n"
   ],
   "id": "fba2fe031774de32"
  },
  {
   "metadata": {},
   "cell_type": "markdown",
   "source": "## Import libraries",
   "id": "ec001afac3ee20ec"
  },
  {
   "metadata": {},
   "cell_type": "markdown",
   "source": "Database details",
   "id": "73e7a862ba788476"
  },
  {
   "metadata": {
    "ExecuteTime": {
     "end_time": "2024-10-16T00:24:02.391197Z",
     "start_time": "2024-10-16T00:24:00.143090Z"
    }
   },
   "cell_type": "code",
   "source": [
    "\n",
    "from pyspark.sql import SparkSession\n",
    "from pyspark import SparkConf, SparkContext\n",
    "from tornado.options import options\n",
    "\n",
    "# set spark configs details\n",
    "conf = (SparkConf()\n",
    "        .setAppName(\"ETLPipeline\")\n",
    "        .setMaster(\"local\")\n",
    "        .set(\"spark.driver.extraClassPath\", \"G:/pyspark/*\"))\n",
    "\n",
    "# Initiate Spark Session\n",
    "sc = SparkContext.getOrCreate(conf=conf)\n",
    "etl = SparkSession(sc)\n",
    "\n",
    "# Set Database details\n"
   ],
   "id": "f026cf454b6195d9",
   "outputs": [
    {
     "name": "stderr",
     "output_type": "stream",
     "text": [
      "24/10/16 02:24:01 WARN Utils: Your hostname, haiduri-Legion-5-Pro-16ACH6H resolves to a loopback address: 127.0.1.1; using 192.168.50.104 instead (on interface wlp4s0)\n",
      "24/10/16 02:24:01 WARN Utils: Set SPARK_LOCAL_IP if you need to bind to another address\n",
      "WARNING: An illegal reflective access operation has occurred\n",
      "WARNING: Illegal reflective access by org.apache.spark.unsafe.Platform (file:/home/haiduri/anaconda3/envs/DE/lib/python3.11/site-packages/pyspark/jars/spark-unsafe_2.12-3.2.0.jar) to constructor java.nio.DirectByteBuffer(long,int)\n",
      "WARNING: Please consider reporting this to the maintainers of org.apache.spark.unsafe.Platform\n",
      "WARNING: Use --illegal-access=warn to enable warnings of further illegal reflective access operations\n",
      "WARNING: All illegal access operations will be denied in a future release\n",
      "Using Spark's default log4j profile: org/apache/spark/log4j-defaults.properties\n",
      "Setting default log level to \"WARN\".\n",
      "To adjust logging level use sc.setLogLevel(newLevel). For SparkR, use setLogLevel(newLevel).\n",
      "24/10/16 02:24:01 WARN NativeCodeLoader: Unable to load native-hadoop library for your platform... using builtin-java classes where applicable\n"
     ]
    }
   ],
   "execution_count": 1
  },
  {
   "metadata": {
    "ExecuteTime": {
     "end_time": "2024-10-16T00:24:02.697412Z",
     "start_time": "2024-10-16T00:24:02.395099Z"
    }
   },
   "cell_type": "code",
   "source": [
    "import pyodbc\n",
    "import pandas as pd\n",
    "from IPython.display import display\n",
    "from sqlalchemy import create_engine, text\n",
    "import os\n",
    "\n",
    "# Connection parameters\n",
    "server_sqlserver = 'localhost'\n",
    "port_sqlserver = '1433'\n",
    "database_sqlserver = 'AdventureWorksDW2019'\n",
    "username_sqlserver = 'sa'\n",
    "password_sqlserver = 'YourStrong!Passw0rd'\n",
    "\n",
    "\n",
    "\n",
    "server_ps = 'localhost'\n",
    "port_ps = '5433'\n",
    "database_ps = 'AdventureWorks'\n",
    "username_ps = 'root'\n",
    "password_ps = 'root'\n",
    "\n",
    "\n",
    "# connection_string_sqlserver = f'DRIVER={{ODBC Driver 17 for SQL Server}};SERVER={server_sqlserver},{port_sqlserver};DATABASE={database_sqlserver};UID={username_sqlserver};PWD={password_sqlserver}' # for pyodbc\n",
    "\n",
    "connection_string_sqlserver = f'mssql+pyodbc://{username_sqlserver}:{password_sqlserver}@{server_sqlserver}:{port_sqlserver}/{database_sqlserver}?driver=ODBC+Driver+17+for+SQL+Server'  # for sqlalchemy\n",
    "\n",
    "\n",
    "\n",
    "\n",
    "# Connection string for PostgreSQL\n",
    "connection_string_ps = (\n",
    "    f'postgresql+psycopg2://{username_ps}:{password_ps}'\n",
    "    f'@{server_ps}:{port_ps}/{database_ps}'\n",
    ")\n",
    "\n",
    "server = \"localhost\"\n",
    "src_driver=\"com.microsoft.sqlserver.jdbc.SQLServerDriver\"\n",
    "src_db = \"AdventureWorksDW2019\"\n",
    "src_url=f\"jdbc:sqlserver://{server}:1433;database={src_db};user={username_sqlserver};password={password_sqlserver};encrypt=true;trustServerCertificate=true\"\n",
    "\n",
    "target_driver= \"org.postgresql.Driver\"\n",
    "target_db = \"AdventureWorks\"\n",
    "target_url = f\"jdbc:postgresql://{server}:5433/{target_db}?user={username_ps}&password={password_ps}\"\n"
   ],
   "id": "97132fb41daef91f",
   "outputs": [],
   "execution_count": 2
  },
  {
   "metadata": {
    "ExecuteTime": {
     "end_time": "2024-10-16T00:24:02.812504Z",
     "start_time": "2024-10-16T00:24:02.732530Z"
    }
   },
   "cell_type": "code",
   "source": [
    "try:\n",
    "    engine_sqlserver = create_engine(connection_string_sqlserver)  # for sqlalchemy\n",
    "    # src_conn = pyodbc.connect(connection_string_sqlserver)\n",
    "    print(\"Connected to SqlServer successfully!\\n\")    \n",
    "    \n",
    "    engine_ps = create_engine(connection_string_ps)\n",
    "    print(\"Connected to PostgreSQL successfully!\\n\")\n",
    "except Exception as e:\n",
    "    print(\"Error: \", e)"
   ],
   "id": "9e76ee5aaa08c4f2",
   "outputs": [
    {
     "name": "stdout",
     "output_type": "stream",
     "text": [
      "Connected to SqlServer successfully!\n",
      "\n",
      "Connected to PostgreSQL successfully!\n",
      "\n"
     ]
    }
   ],
   "execution_count": 3
  },
  {
   "metadata": {
    "ExecuteTime": {
     "end_time": "2024-10-16T00:24:02.825160Z",
     "start_time": "2024-10-16T00:24:02.822691Z"
    }
   },
   "cell_type": "code",
   "source": [
    "sql = text(\"\"\"\n",
    "            SELECT t.name AS table_name\n",
    "            FROM sys.tables t \n",
    "            WHERE t.name IN ('DimProduct', 'DimProductSubCategory', 'DimProductCategory', 'DimSalesTerritory', 'FactInternetSales')\n",
    "        \"\"\")\n"
   ],
   "id": "49830481c11b020d",
   "outputs": [],
   "execution_count": 4
  },
  {
   "metadata": {
    "ExecuteTime": {
     "end_time": "2024-10-16T00:24:05.644018Z",
     "start_time": "2024-10-16T00:24:02.865006Z"
    }
   },
   "cell_type": "code",
   "source": [
    "dfs=etl.read.format(\"jdbc\").options(driver=src_driver,user=username_sqlserver,password=password_sqlserver,url=src_url,query=sql).load()\n",
    "dfs.show()"
   ],
   "id": "71c234e619a9d88a",
   "outputs": [
    {
     "name": "stdout",
     "output_type": "stream",
     "text": [
      "+--------------------+\n",
      "|          table_name|\n",
      "+--------------------+\n",
      "|          DimProduct|\n",
      "|  DimProductCategory|\n",
      "|DimProductSubcate...|\n",
      "|   DimSalesTerritory|\n",
      "|   FactInternetSales|\n",
      "+--------------------+\n",
      "\n"
     ]
    }
   ],
   "execution_count": 5
  },
  {
   "metadata": {
    "ExecuteTime": {
     "end_time": "2024-10-16T00:24:05.793837Z",
     "start_time": "2024-10-16T00:24:05.673875Z"
    }
   },
   "cell_type": "code",
   "source": [
    "data_collect = dfs.collect()\n",
    "for row in data_collect:\n",
    "    print(row[\"table_name\"])"
   ],
   "id": "8453596cc27b2592",
   "outputs": [
    {
     "name": "stdout",
     "output_type": "stream",
     "text": [
      "DimProduct\n",
      "DimProductCategory\n",
      "DimProductSubcategory\n",
      "DimSalesTerritory\n",
      "FactInternetSales\n"
     ]
    }
   ],
   "execution_count": 6
  },
  {
   "metadata": {},
   "cell_type": "markdown",
   "source": [
    "# ETL Process\n",
    "- extract: get data from a source\n",
    "- transform: structure, format, or clean the data\n",
    "- load: write the data to an external destination"
   ],
   "id": "ed0cf6247f02d102"
  },
  {
   "metadata": {
    "ExecuteTime": {
     "end_time": "2024-10-16T00:24:05.806737Z",
     "start_time": "2024-10-16T00:24:05.804842Z"
    }
   },
   "cell_type": "code",
   "source": "",
   "id": "2df183560084b57c",
   "outputs": [],
   "execution_count": null
  },
  {
   "metadata": {
    "ExecuteTime": {
     "end_time": "2024-10-16T00:24:05.854619Z",
     "start_time": "2024-10-16T00:24:05.852643Z"
    }
   },
   "cell_type": "code",
   "source": "",
   "id": "8d512ceef920aa72",
   "outputs": [],
   "execution_count": null
  },
  {
   "metadata": {
    "ExecuteTime": {
     "end_time": "2024-10-16T00:24:05.903983Z",
     "start_time": "2024-10-16T00:24:05.899994Z"
    }
   },
   "cell_type": "code",
   "source": [
    "def extract():\n",
    "    try:\n",
    "        dfs=etl.read.format(\"jdbc\").options(driver=src_driver,user=username_sqlserver,password=password_sqlserver,url=src_url,query=sql).load()\n",
    "        \n",
    "        data_collect=dfs.collect()\n",
    "        \n",
    "        for row in data_collect:\n",
    "            print(row[\"table_name\"])\n",
    "            tbl_name= row[\"table_name\"]\n",
    "            df=(etl.read.format(\"jdbc\")\n",
    "                .option(\"driver\", src_driver)\n",
    "                .option(\"user\", username_sqlserver)\n",
    "                .option(\"password\", password_sqlserver)\n",
    "                .option(\"url\", src_url)\n",
    "                .option(\"dbtable\",f\"dbo.{tbl_name}\")\n",
    "                .load())\n",
    "            print(df.show(10))\n",
    "            load(df,tbl_name)\n",
    "            print(\"Data loaded successfully\")\n",
    "    except Exception as e:\n",
    "        print(\"Error: \", str(e))"
   ],
   "id": "d0b63236c987d9d9",
   "outputs": [],
   "execution_count": 7
  },
  {
   "metadata": {
    "ExecuteTime": {
     "end_time": "2024-10-16T00:24:05.956755Z",
     "start_time": "2024-10-16T00:24:05.950085Z"
    }
   },
   "cell_type": "code",
   "source": [
    "def load(df, tbl):\n",
    "    try:\n",
    "        rows_imported = 0\n",
    "\n",
    "        print(f'importing rows {rows_imported} to {rows_imported + df.count()}... for table {tbl}')\n",
    "\n",
    "        df.write.mode(\"overwrite\") \\\n",
    "         .format(\"jdbc\") \\\n",
    "            .option(\"url\", target_url) \\\n",
    "            .option(\"user\", username_ps) \\\n",
    "            .option(\"password\", password_ps) \\\n",
    "            .option(\"driver\", target_driver) \\\n",
    "            .option(\"dbtable\", \"src_\" + tbl) \\\n",
    "            .save()\n",
    "\n",
    "        print(\"data imported successfully\")\n",
    "\n",
    "        rows_imported += df.count()\n",
    "\n",
    "    except Exception as e:\n",
    "        print(\"Error:\", str(e))"
   ],
   "id": "be901a19b2935d7f",
   "outputs": [],
   "execution_count": 8
  },
  {
   "metadata": {
    "ExecuteTime": {
     "end_time": "2024-10-16T00:24:11.673004Z",
     "start_time": "2024-10-16T00:24:06.003437Z"
    }
   },
   "cell_type": "code",
   "source": [
    "try:\n",
    "    extract()\n",
    "except Exception as e:\n",
    "    print(\"Error:\", str(e))"
   ],
   "id": "bb53c17c83e06c77",
   "outputs": [
    {
     "name": "stdout",
     "output_type": "stream",
     "text": [
      "DimProduct\n"
     ]
    },
    {
     "name": "stderr",
     "output_type": "stream",
     "text": [
      "24/10/16 02:24:06 WARN package: Truncated the string representation of a plan since it was too large. This behavior can be adjusted by setting 'spark.sql.debug.maxToStringFields'.\n"
     ]
    },
    {
     "name": "stdout",
     "output_type": "stream",
     "text": [
      "+----------+-------------------+---------------------+---------------------+-------------------+--------------------+------------------+-----------------+------------+-----------------+------+----------------+------------+---------+----+---------+------+-----------------+-----------+-----------+-----+-----+---------+--------------------+------------------+-----------------+------------------+-----------------+-----------------+---------------+-----------------+-------------------+------------------+-------------------+-------+-------+\n",
      "|ProductKey|ProductAlternateKey|ProductSubcategoryKey|WeightUnitMeasureCode|SizeUnitMeasureCode|  EnglishProductName|SpanishProductName|FrenchProductName|StandardCost|FinishedGoodsFlag| Color|SafetyStockLevel|ReorderPoint|ListPrice|Size|SizeRange|Weight|DaysToManufacture|ProductLine|DealerPrice|Class|Style|ModelName|          LargePhoto|EnglishDescription|FrenchDescription|ChineseDescription|ArabicDescription|HebrewDescription|ThaiDescription|GermanDescription|JapaneseDescription|TurkishDescription|          StartDate|EndDate| Status|\n",
      "+----------+-------------------+---------------------+---------------------+-------------------+--------------------+------------------+-----------------+------------+-----------------+------+----------------+------------+---------+----+---------+------+-----------------+-----------+-----------+-----+-----+---------+--------------------+------------------+-----------------+------------------+-----------------+-----------------+---------------+-----------------+-------------------+------------------+-------------------+-------+-------+\n",
      "|         1|            AR-5381|                 null|                 null|               null|     Adjustable Race|                  |                 |        null|            false|    NA|            1000|         750|     null|null|       NA|  null|                0|       null|       null| null| null|     null|[47 49 46 38 39 6...|              null|             null|              null|             null|             null|           null|             null|               null|              null|2003-07-01 00:00:00|   null|Current|\n",
      "|         2|            BA-8327|                 null|                 null|               null|        Bearing Ball|                  |                 |        null|            false|    NA|            1000|         750|     null|null|       NA|  null|                0|       null|       null| null| null|     null|[47 49 46 38 39 6...|              null|             null|              null|             null|             null|           null|             null|               null|              null|2003-07-01 00:00:00|   null|Current|\n",
      "|         3|            BE-2349|                 null|                 null|               null|     BB Ball Bearing|                  |                 |        null|            false|    NA|             800|         600|     null|null|       NA|  null|                1|       null|       null| null| null|     null|[47 49 46 38 39 6...|              null|             null|              null|             null|             null|           null|             null|               null|              null|2003-07-01 00:00:00|   null|Current|\n",
      "|         4|            BE-2908|                 null|                 null|               null|Headset Ball Bear...|                  |                 |        null|            false|    NA|             800|         600|     null|null|       NA|  null|                0|       null|       null| null| null|     null|[47 49 46 38 39 6...|              null|             null|              null|             null|             null|           null|             null|               null|              null|2003-07-01 00:00:00|   null|Current|\n",
      "|         5|            BL-2036|                 null|                 null|               null|               Blade|                  |                 |        null|            false|    NA|             800|         600|     null|null|       NA|  null|                1|       null|       null| null| null|     null|[47 49 46 38 39 6...|              null|             null|              null|             null|             null|           null|             null|               null|              null|2003-07-01 00:00:00|   null|Current|\n",
      "|         6|            CA-5965|                 null|                 null|               null|         LL Crankarm|                  |                 |        null|            false| Black|             500|         375|     null|null|       NA|  null|                0|       null|       null|   L | null|     null|[47 49 46 38 39 6...|              null|             null|              null|             null|             null|           null|             null|               null|              null|2003-07-01 00:00:00|   null|Current|\n",
      "|         7|            CA-6738|                 null|                 null|               null|         ML Crankarm|                  |                 |        null|            false| Black|             500|         375|     null|null|       NA|  null|                0|       null|       null|   M | null|     null|[47 49 46 38 39 6...|              null|             null|              null|             null|             null|           null|             null|               null|              null|2003-07-01 00:00:00|   null|Current|\n",
      "|         8|            CA-7457|                 null|                 null|               null|         HL Crankarm|                  |                 |        null|            false| Black|             500|         375|     null|null|       NA|  null|                0|       null|       null| null| null|     null|[47 49 46 38 39 6...|              null|             null|              null|             null|             null|           null|             null|               null|              null|2003-07-01 00:00:00|   null|Current|\n",
      "|         9|            CB-2903|                 null|                 null|               null|     Chainring Bolts|                  |                 |        null|            false|Silver|            1000|         750|     null|null|       NA|  null|                0|       null|       null| null| null|     null|[47 49 46 38 39 6...|              null|             null|              null|             null|             null|           null|             null|               null|              null|2003-07-01 00:00:00|   null|Current|\n",
      "|        10|            CN-6137|                 null|                 null|               null|       Chainring Nut|                  |                 |        null|            false|Silver|            1000|         750|     null|null|       NA|  null|                0|       null|       null| null| null|     null|[47 49 46 38 39 6...|              null|             null|              null|             null|             null|           null|             null|               null|              null|2003-07-01 00:00:00|   null|Current|\n",
      "+----------+-------------------+---------------------+---------------------+-------------------+--------------------+------------------+-----------------+------------+-----------------+------+----------------+------------+---------+----+---------+------+-----------------+-----------+-----------+-----+-----+---------+--------------------+------------------+-----------------+------------------+-----------------+-----------------+---------------+-----------------+-------------------+------------------+-------------------+-------+-------+\n",
      "only showing top 10 rows\n",
      "\n",
      "None\n",
      "importing rows 0 to 606... for table DimProduct\n",
      "data imported successfully\n",
      "Data loaded successfully\n",
      "DimProductCategory\n",
      "+------------------+---------------------------+--------------------------+--------------------------+-------------------------+\n",
      "|ProductCategoryKey|ProductCategoryAlternateKey|EnglishProductCategoryName|SpanishProductCategoryName|FrenchProductCategoryName|\n",
      "+------------------+---------------------------+--------------------------+--------------------------+-------------------------+\n",
      "|                 1|                          1|                     Bikes|                 Bicicleta|                     Vélo|\n",
      "|                 2|                          2|                Components|                Componente|                Composant|\n",
      "|                 3|                          3|                  Clothing|                    Prenda|                Vêtements|\n",
      "|                 4|                          4|               Accessories|                 Accesorio|               Accessoire|\n",
      "+------------------+---------------------------+--------------------------+--------------------------+-------------------------+\n",
      "\n",
      "None\n",
      "importing rows 0 to 4... for table DimProductCategory\n",
      "data imported successfully\n",
      "Data loaded successfully\n",
      "DimProductSubcategory\n",
      "+---------------------+------------------------------+-----------------------------+-----------------------------+----------------------------+------------------+\n",
      "|ProductSubcategoryKey|ProductSubcategoryAlternateKey|EnglishProductSubcategoryName|SpanishProductSubcategoryName|FrenchProductSubcategoryName|ProductCategoryKey|\n",
      "+---------------------+------------------------------+-----------------------------+-----------------------------+----------------------------+------------------+\n",
      "|                    1|                             1|               Mountain Bikes|         Bicicleta de montaña|                         VTT|                 1|\n",
      "|                    2|                             2|                   Road Bikes|         Bicicleta de carr...|               Vélo de route|                 1|\n",
      "|                    3|                             3|                Touring Bikes|           Bicicleta de paseo|           Vélo de randonnée|                 1|\n",
      "|                    4|                             4|                   Handlebars|                        Barra|               Barre d'appui|                 2|\n",
      "|                    5|                             5|              Bottom Brackets|              Eje de pedalier|             Axe de pédalier|                 2|\n",
      "|                    6|                             6|                       Brakes|                       Frenos|                      Freins|                 2|\n",
      "|                    7|                             7|                       Chains|                       Cadena|                      Chaîne|                 2|\n",
      "|                    8|                             8|                    Cranksets|                       Bielas|                    Pédalier|                 2|\n",
      "|                    9|                             9|                  Derailleurs|                    Desviador|                  Dérailleur|                 2|\n",
      "|                   10|                            10|                        Forks|                    Horquilla|                     Fourche|                 2|\n",
      "+---------------------+------------------------------+-----------------------------+-----------------------------+----------------------------+------------------+\n",
      "only showing top 10 rows\n",
      "\n",
      "None\n",
      "importing rows 0 to 37... for table DimProductSubcategory\n",
      "data imported successfully\n",
      "Data loaded successfully\n",
      "DimSalesTerritory\n",
      "+-----------------+--------------------------+--------------------+---------------------+-------------------+--------------------+\n",
      "|SalesTerritoryKey|SalesTerritoryAlternateKey|SalesTerritoryRegion|SalesTerritoryCountry|SalesTerritoryGroup| SalesTerritoryImage|\n",
      "+-----------------+--------------------------+--------------------+---------------------+-------------------+--------------------+\n",
      "|                1|                         1|           Northwest|        United States|      North America|[FF D8 FF E0 00 1...|\n",
      "|                2|                         2|           Northeast|        United States|      North America|[FF D8 FF E0 00 1...|\n",
      "|                3|                         3|             Central|        United States|      North America|[FF D8 FF E0 00 1...|\n",
      "|                4|                         4|           Southwest|        United States|      North America|[FF D8 FF E0 00 1...|\n",
      "|                5|                         5|           Southeast|        United States|      North America|[FF D8 FF E0 00 1...|\n",
      "|                6|                         6|              Canada|               Canada|      North America|[FF D8 FF E0 00 1...|\n",
      "|                7|                         7|              France|               France|             Europe|[FF D8 FF E0 00 1...|\n",
      "|                8|                         8|             Germany|              Germany|             Europe|[FF D8 FF E0 00 1...|\n",
      "|                9|                         9|           Australia|            Australia|            Pacific|[FF D8 FF E0 00 1...|\n",
      "|               10|                        10|      United Kingdom|       United Kingdom|             Europe|[FF D8 FF E0 00 1...|\n",
      "+-----------------+--------------------------+--------------------+---------------------+-------------------+--------------------+\n",
      "only showing top 10 rows\n",
      "\n",
      "None\n",
      "importing rows 0 to 11... for table DimSalesTerritory\n",
      "data imported successfully\n",
      "Data loaded successfully\n",
      "FactInternetSales\n",
      "+----------+------------+----------+-----------+-----------+------------+-----------+-----------------+----------------+--------------------+--------------+-------------+---------+--------------+--------------------+--------------+-------------------+----------------+-----------+--------+-------+---------------------+----------------+-------------------+-------------------+-------------------+\n",
      "|ProductKey|OrderDateKey|DueDateKey|ShipDateKey|CustomerKey|PromotionKey|CurrencyKey|SalesTerritoryKey|SalesOrderNumber|SalesOrderLineNumber|RevisionNumber|OrderQuantity|UnitPrice|ExtendedAmount|UnitPriceDiscountPct|DiscountAmount|ProductStandardCost|TotalProductCost|SalesAmount|  TaxAmt|Freight|CarrierTrackingNumber|CustomerPONumber|          OrderDate|            DueDate|           ShipDate|\n",
      "+----------+------------+----------+-----------+-----------+------------+-----------+-----------------+----------------+--------------------+--------------+-------------+---------+--------------+--------------------+--------------+-------------------+----------------+-----------+--------+-------+---------------------+----------------+-------------------+-------------------+-------------------+\n",
      "|       310|    20101229|  20110110|   20110105|      21768|           1|         19|                6|         SO43697|                   1|             1|            1|3578.2700|     3578.2700|                 0.0|           0.0|          2171.2942|       2171.2942|  3578.2700|286.2616|89.4568|                 null|            null|2010-12-29 00:00:00|2011-01-10 00:00:00|2011-01-05 00:00:00|\n",
      "|       346|    20101229|  20110110|   20110105|      28389|           1|         39|                7|         SO43698|                   1|             1|            1|3399.9900|     3399.9900|                 0.0|           0.0|          1912.1544|       1912.1544|  3399.9900|271.9992|84.9998|                 null|            null|2010-12-29 00:00:00|2011-01-10 00:00:00|2011-01-05 00:00:00|\n",
      "|       346|    20101229|  20110110|   20110105|      25863|           1|        100|                1|         SO43699|                   1|             1|            1|3399.9900|     3399.9900|                 0.0|           0.0|          1912.1544|       1912.1544|  3399.9900|271.9992|84.9998|                 null|            null|2010-12-29 00:00:00|2011-01-10 00:00:00|2011-01-05 00:00:00|\n",
      "|       336|    20101229|  20110110|   20110105|      14501|           1|        100|                4|         SO43700|                   1|             1|            1| 699.0982|      699.0982|                 0.0|           0.0|           413.1463|        413.1463|   699.0982| 55.9279|17.4775|                 null|            null|2010-12-29 00:00:00|2011-01-10 00:00:00|2011-01-05 00:00:00|\n",
      "|       346|    20101229|  20110110|   20110105|      11003|           1|          6|                9|         SO43701|                   1|             1|            1|3399.9900|     3399.9900|                 0.0|           0.0|          1912.1544|       1912.1544|  3399.9900|271.9992|84.9998|                 null|            null|2010-12-29 00:00:00|2011-01-10 00:00:00|2011-01-05 00:00:00|\n",
      "|       311|    20101230|  20110111|   20110106|      27645|           1|        100|                4|         SO43702|                   1|             1|            1|3578.2700|     3578.2700|                 0.0|           0.0|          2171.2942|       2171.2942|  3578.2700|286.2616|89.4568|                 null|            null|2010-12-30 00:00:00|2011-01-11 00:00:00|2011-01-06 00:00:00|\n",
      "|       310|    20101230|  20110111|   20110106|      16624|           1|          6|                9|         SO43703|                   1|             1|            1|3578.2700|     3578.2700|                 0.0|           0.0|          2171.2942|       2171.2942|  3578.2700|286.2616|89.4568|                 null|            null|2010-12-30 00:00:00|2011-01-11 00:00:00|2011-01-06 00:00:00|\n",
      "|       351|    20101230|  20110111|   20110106|      11005|           1|          6|                9|         SO43704|                   1|             1|            1|3374.9900|     3374.9900|                 0.0|           0.0|          1898.0944|       1898.0944|  3374.9900|269.9992|84.3748|                 null|            null|2010-12-30 00:00:00|2011-01-11 00:00:00|2011-01-06 00:00:00|\n",
      "|       344|    20101230|  20110111|   20110106|      11011|           1|          6|                9|         SO43705|                   1|             1|            1|3399.9900|     3399.9900|                 0.0|           0.0|          1912.1544|       1912.1544|  3399.9900|271.9992|84.9998|                 null|            null|2010-12-30 00:00:00|2011-01-11 00:00:00|2011-01-06 00:00:00|\n",
      "|       312|    20101231|  20110112|   20110107|      27621|           1|        100|                4|         SO43706|                   1|             1|            1|3578.2700|     3578.2700|                 0.0|           0.0|          2171.2942|       2171.2942|  3578.2700|286.2616|89.4568|                 null|            null|2010-12-31 00:00:00|2011-01-12 00:00:00|2011-01-07 00:00:00|\n",
      "+----------+------------+----------+-----------+-----------+------------+-----------+-----------------+----------------+--------------------+--------------+-------------+---------+--------------+--------------------+--------------+-------------------+----------------+-----------+--------+-------+---------------------+----------------+-------------------+-------------------+-------------------+\n",
      "only showing top 10 rows\n",
      "\n",
      "None\n",
      "importing rows 0 to 60398... for table FactInternetSales\n"
     ]
    },
    {
     "name": "stderr",
     "output_type": "stream",
     "text": [
      "[Stage 39:>                                                         (0 + 1) / 1]\r"
     ]
    },
    {
     "name": "stdout",
     "output_type": "stream",
     "text": [
      "data imported successfully\n",
      "Data loaded successfully\n"
     ]
    },
    {
     "name": "stderr",
     "output_type": "stream",
     "text": [
      "                                                                                \r"
     ]
    }
   ],
   "execution_count": 9
  }
 ],
 "metadata": {
  "kernelspec": {
   "display_name": "Python 3",
   "language": "python",
   "name": "python3"
  },
  "language_info": {
   "codemirror_mode": {
    "name": "ipython",
    "version": 2
   },
   "file_extension": ".py",
   "mimetype": "text/x-python",
   "name": "python",
   "nbconvert_exporter": "python",
   "pygments_lexer": "ipython2",
   "version": "2.7.6"
  }
 },
 "nbformat": 4,
 "nbformat_minor": 5
}
